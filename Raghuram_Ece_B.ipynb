{
  "nbformat": 4,
  "nbformat_minor": 0,
  "metadata": {
    "colab": {
      "provenance": [],
      "authorship_tag": "ABX9TyNsRGJCt1czo1EjusdmK+G4",
      "include_colab_link": true
    },
    "kernelspec": {
      "name": "python3",
      "display_name": "Python 3"
    },
    "language_info": {
      "name": "python"
    }
  },
  "cells": [
    {
      "cell_type": "markdown",
      "metadata": {
        "id": "view-in-github",
        "colab_type": "text"
      },
      "source": [
        "<a href=\"https://colab.research.google.com/github/Raghuram-Rengaraj/Raghuram-Rengaraj/blob/main/Raghuram_Ece_B.ipynb\" target=\"_parent\"><img src=\"https://colab.research.google.com/assets/colab-badge.svg\" alt=\"Open In Colab\"/></a>"
      ]
    },
    {
      "cell_type": "code",
      "source": [
        "#1. Area of circle\n",
        "from math import pi\n",
        "radius=float(input(\"Enter the Radius: \"))\n",
        "area=pi*radius**2\n",
        "area=round(area,2)\n",
        "print(f\"Area of cirlce Radius {radius} is {area} sq.units\")"
      ],
      "metadata": {
        "id": "IlfDcNVaBPkt",
        "outputId": "eecddfa4-49d6-4ef9-a2d4-53ab1a5e7ba2",
        "colab": {
          "base_uri": "https://localhost:8080/"
        }
      },
      "execution_count": 1,
      "outputs": [
        {
          "output_type": "stream",
          "name": "stdout",
          "text": [
            "Enter the Radius: 5\n",
            "Area of cirlce Radius 5.0 is 78.54 sq.units\n"
          ]
        }
      ]
    },
    {
      "cell_type": "code",
      "source": [
        "\n",
        "#2.Sum of 2 Numbers\n",
        "a=int(input(\"Enter 1st Number: \"))\n",
        "b=int(input(\"Enter 2nd Number: \"))\n",
        "sum=a+b\n",
        "print(f\"Sum of {a} and {b} is {sum}\")"
      ],
      "metadata": {
        "colab": {
          "base_uri": "https://localhost:8080/"
        },
        "id": "ztNJYx2wGTFc",
        "outputId": "d098d36c-810b-4a28-995d-0987f0b47ad8"
      },
      "execution_count": null,
      "outputs": [
        {
          "output_type": "stream",
          "name": "stdout",
          "text": [
            "Enter 1st Number: 3\n",
            "Enter 2nd Number: 5\n",
            "Sum of 3 and 5 is 8\n"
          ]
        }
      ]
    },
    {
      "cell_type": "code",
      "source": [
        "\n",
        "#3.Area of Triangle\n",
        "height=int(input(\"Enter Height: \"))\n",
        "base=int(input(\"Enter Base: \"))\n",
        "area=0.5*height*base\n",
        "print(f\"Area of Triangle whose Height {height} and Base {base} is {area} square units\")"
      ],
      "metadata": {
        "id": "sf46YmwnAUWy",
        "colab": {
          "base_uri": "https://localhost:8080/"
        },
        "outputId": "a667921a-7f84-46b0-cfa1-9704c9def3b5"
      },
      "execution_count": null,
      "outputs": [
        {
          "output_type": "stream",
          "name": "stdout",
          "text": [
            "Enter Height: 4\n",
            "Enter Base: 5\n",
            "Area of Triangle whose Height 4 and Base 5 is 10.0 square units\n"
          ]
        }
      ]
    },
    {
      "cell_type": "code",
      "source": [
        "#4.Swapping\n",
        "a=int(input(\"Enter 1st number: \"))\n",
        "b=int(input(\"Enter 2nd number: \"))\n",
        "print(\"Before Swapping:\")\n",
        "print(f\"a = {a} and b = {b}\")\n",
        "a,b=b,a\n",
        "print(\"After Swapping:\")\n",
        "print(f\"a = {a} and b = {b}\")"
      ],
      "metadata": {
        "id": "e4QbarzODOPA",
        "colab": {
          "base_uri": "https://localhost:8080/"
        },
        "outputId": "5b498069-93a7-4719-c7fa-15474a5a7051"
      },
      "execution_count": null,
      "outputs": [
        {
          "output_type": "stream",
          "name": "stdout",
          "text": [
            "Enter 1st number: 3\n",
            "Enter 2nd number: 5\n",
            "Before Swapping:\n",
            "a = 3 and b = 5\n",
            "After Swapping\n",
            "a = 5 and b = 3\n"
          ]
        }
      ]
    },
    {
      "cell_type": "code",
      "source": [
        "#5.Leap year or not\n",
        "year=int(input(\"Enter the year: \"))\n",
        "out=f\"{year} is not a Leap year\" if year%4 else f\"{year} is Leap year\"\n",
        "print(out)"
      ],
      "metadata": {
        "colab": {
          "base_uri": "https://localhost:8080/"
        },
        "id": "UoyaMy8BGdBT",
        "outputId": "d0a3a580-3863-4585-f365-93f3886f508b"
      },
      "execution_count": null,
      "outputs": [
        {
          "output_type": "stream",
          "name": "stdout",
          "text": [
            "Enter the year: 2002\n",
            "2002 is not a Leap year\n"
          ]
        }
      ]
    },
    {
      "cell_type": "code",
      "source": [
        "#6.Greatest of three numbers\n",
        "a=int(input(\"Enter A:\"))\n",
        "b=int(input(\"Enter B:\"))\n",
        "c=int(input(\"Enter C:\"))\n",
        "greatest = a if (a > b and a > c) else (b if (b > c) else c)\n",
        "print(f\"The Greatest number is {greatest}\")"
      ],
      "metadata": {
        "colab": {
          "base_uri": "https://localhost:8080/"
        },
        "id": "2MSWne8VHYz5",
        "outputId": "412e8d6b-5b7d-4577-8576-9de20365e016"
      },
      "execution_count": null,
      "outputs": [
        {
          "output_type": "stream",
          "name": "stdout",
          "text": [
            "Enter A:1\n",
            "Enter B:2\n",
            "Enter C:4\n",
            "The Greatest number is 4\n"
          ]
        }
      ]
    },
    {
      "cell_type": "code",
      "source": [
        "#7.Odd or Even\n",
        "num=int(input(\"Enter the number: \"))\n",
        "out= f\"{num} is Odd\" if num%2 else f\"{num} is Even\"\n",
        "print(out)"
      ],
      "metadata": {
        "colab": {
          "base_uri": "https://localhost:8080/"
        },
        "id": "zdUxC_h1O_Gw",
        "outputId": "4a11f09f-cf32-46ef-a8b8-f95d1d4a1486"
      },
      "execution_count": null,
      "outputs": [
        {
          "output_type": "stream",
          "name": "stdout",
          "text": [
            "Enter the number: 4\n",
            "4 is Even\n"
          ]
        }
      ]
    },
    {
      "cell_type": "code",
      "source": [
        "#8.Factorial\n",
        "num=int(input(\"Enter the number: \"))\n",
        "fact=1\n",
        "for i in range(1,num+1):\n",
        "      fact *= i\n",
        "print(fact)"
      ],
      "metadata": {
        "colab": {
          "base_uri": "https://localhost:8080/"
        },
        "id": "4VT_GeuNPnfk",
        "outputId": "2b51d35c-50f7-43e7-e54e-d02a1b4db177"
      },
      "execution_count": null,
      "outputs": [
        {
          "output_type": "stream",
          "name": "stdout",
          "text": [
            "Enter the number: 4\n",
            "24\n"
          ]
        }
      ]
    },
    {
      "cell_type": "code",
      "source": [
        "#9.Reverse of a number\n",
        "#9a. with function\n",
        "def rev_num(num):\n",
        "    return int(str(num)[::-1])\n",
        "inp_num = int(input(\"Enter a number: \"))\n",
        "reversed_num= rev_num(inp_num)\n",
        "print(f\"The reversed number is: {reversed_num}\")\n",
        "\n",
        "#9b.without function\n",
        "num = int(input(\"Enter a number: \"))\n",
        "reversed_number = int(str(num)[::-1])\n",
        "print(f\"The reversed number is: {reversed_number}\")"
      ],
      "metadata": {
        "colab": {
          "base_uri": "https://localhost:8080/"
        },
        "id": "4kUWm7EdREOc",
        "outputId": "70ddb1ad-a008-49ad-c0f6-0f33da64eb47"
      },
      "execution_count": null,
      "outputs": [
        {
          "output_type": "stream",
          "name": "stdout",
          "text": [
            "Enter a number: 6728\n",
            "The reversed number is: 8276\n",
            "Enter a number: 8663\n",
            "The reversed number is: 3668\n"
          ]
        }
      ]
    },
    {
      "cell_type": "code",
      "source": [
        "#10.fibonacci series\n",
        "def gen_fib(n):\n",
        "    fib_series = [0, 1]\n",
        "\n",
        "    while len(fib_series) < n:\n",
        "        nxt_term = fib_series[-1] + fib_series[-2]\n",
        "        fib_series.append(nxt_term)\n",
        "\n",
        "    return fib_series\n",
        "\n",
        "terms = int(input(\"Enter the number of Fibonacci terms: \"))\n",
        "fib_res = gen_fib(terms)\n",
        "print(*fib_res)"
      ],
      "metadata": {
        "colab": {
          "base_uri": "https://localhost:8080/"
        },
        "id": "qw3tRhopSVP9",
        "outputId": "dc3c8046-d16c-4751-9e36-e63a973a8dab"
      },
      "execution_count": null,
      "outputs": [
        {
          "output_type": "stream",
          "name": "stdout",
          "text": [
            "Enter the number of Fibonacci terms: 6\n",
            "0 1 1 2 3 5\n"
          ]
        }
      ]
    }
  ]
}